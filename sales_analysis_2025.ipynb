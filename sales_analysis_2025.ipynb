{
 "cells": [
  {
   "cell_type": "markdown",
   "id": "bdf216a9",
   "metadata": {},
   "source": [
    "# Introduction"
   ]
  },
  {
   "cell_type": "markdown",
   "id": "f22abf84",
   "metadata": {},
   "source": [
    "\n",
    "The goal of this project is to uncover key insights through a statistical analysis of Katingos sales data from the first nine months of the year. Additionally, the client aims to determine, with statistical evidence, which e-commerce platform generates the highest sales for their baby product line and business product line. The insights derived from this analysis will support the marketing team in optimizing their advertising strategies and improving overall campaign performance."
   ]
  },
  {
   "cell_type": "markdown",
   "id": "80c1931e",
   "metadata": {},
   "source": [
    "# Coding"
   ]
  },
  {
   "cell_type": "markdown",
   "id": "4924e690",
   "metadata": {},
   "source": [
    "## Loading libraries"
   ]
  },
  {
   "cell_type": "markdown",
   "id": "c38679b8",
   "metadata": {},
   "source": [
    "\n",
    "Let's import all the libraries that we are going to use first."
   ]
  },
  {
   "cell_type": "code",
   "execution_count": 5,
   "id": "6bd7e554",
   "metadata": {},
   "outputs": [],
   "source": [
    "import pandas as pd\n",
    "import numpy as np\n",
    "import math as mt\n",
    "from scipy import stats as st\n",
    "from matplotlib import pyplot as plt"
   ]
  },
  {
   "cell_type": "markdown",
   "id": "545ccc8b",
   "metadata": {},
   "source": [
    "\n",
    "## Loading data"
   ]
  },
  {
   "cell_type": "markdown",
   "id": "6ed41a3b",
   "metadata": {},
   "source": [
    "Now we load the data from a CSV file with all the sales from january to september 2025."
   ]
  },
  {
   "cell_type": "code",
   "execution_count": 7,
   "id": "cec23942",
   "metadata": {},
   "outputs": [],
   "source": [
    "sales = pd.read_csv('jan_sep_2025_sales.csv', encoding='latin-1')"
   ]
  },
  {
   "cell_type": "markdown",
   "id": "db7ddfc8",
   "metadata": {},
   "source": [
    "\n",
    "## Exploratory Data Analysis (EDA)"
   ]
  },
  {
   "cell_type": "markdown",
   "id": "e78e06a4",
   "metadata": {},
   "source": [
    "\n",
    "First let's take a quick look of the information."
   ]
  },
  {
   "cell_type": "code",
   "execution_count": 10,
   "id": "a134f861",
   "metadata": {},
   "outputs": [
    {
     "name": "stdout",
     "output_type": "stream",
     "text": [
      "<class 'pandas.core.frame.DataFrame'>\n",
      "RangeIndex: 1384 entries, 0 to 1383\n",
      "Data columns (total 18 columns):\n",
      " #   Column                   Non-Null Count  Dtype  \n",
      "---  ------                   --------------  -----  \n",
      " 0   Month                    1384 non-null   int64  \n",
      " 1   Week                     1384 non-null   int64  \n",
      " 2   Channel                  1384 non-null   object \n",
      " 3   State                    1366 non-null   object \n",
      " 4   Baby Peanut 250g         700 non-null    float64\n",
      " 5   Crunchy Peanut 250g      118 non-null    float64\n",
      " 6   Baby Almond 250g         646 non-null    float64\n",
      " 7   Vainilla Almond 250g     109 non-null    float64\n",
      " 8   Chocolate Hazelnut 250g  102 non-null    float64\n",
      " 9   Baby  Peanut 1kg         170 non-null    float64\n",
      " 10  Baby Almond 1kg          11 non-null     float64\n",
      " 11  Crunchy Peanut 1kg       155 non-null    float64\n",
      " 12  Vainilla Almond 1kg      11 non-null     float64\n",
      " 13  Chocolate Hazelnut 1kg   12 non-null     float64\n",
      " 14  Non Crunchy Peanut 4kg   100 non-null    float64\n",
      " 15  Crunchy Peanut 4kg       157 non-null    float64\n",
      " 16  Vainilla Almond 4kg      0 non-null      float64\n",
      " 17  Chocolate Hazelnut 4kg   1 non-null      float64\n",
      "dtypes: float64(14), int64(2), object(2)\n",
      "memory usage: 194.8+ KB\n",
      "None\n",
      "      Month  Week      Channel                  State  Baby Peanut 250g  \\\n",
      "749       6    24           ML                   León               1.0   \n",
      "291       3    10           AZ                   CDMX               1.0   \n",
      "1346      9    39           AZ  Baja California Norte               NaN   \n",
      "70        1     3           ML                   CDMX               NaN   \n",
      "723       6    23           AZ             Guanajuato               NaN   \n",
      "711       6    23           AZ         Aguascalientes               1.0   \n",
      "1153      8    34           AZ                   León               1.0   \n",
      "1186      8    35  Ptos. Venta                   León               2.0   \n",
      "1350      9    39           AZ                Jalisco               NaN   \n",
      "267       2     9        WA/FB                   León               NaN   \n",
      "\n",
      "      Crunchy Peanut 250g  Baby Almond 250g  Vainilla Almond 250g  \\\n",
      "749                   NaN               1.0                   NaN   \n",
      "291                   NaN               1.0                   NaN   \n",
      "1346                  NaN               NaN                   NaN   \n",
      "70                    NaN               NaN                   NaN   \n",
      "723                   NaN               NaN                   NaN   \n",
      "711                   NaN               1.0                   NaN   \n",
      "1153                  NaN               1.0                   NaN   \n",
      "1186                  2.0               NaN                   NaN   \n",
      "1350                  NaN               NaN                   NaN   \n",
      "267                   NaN               NaN                   1.0   \n",
      "\n",
      "      Chocolate Hazelnut 250g  Baby  Peanut 1kg  Baby Almond 1kg  \\\n",
      "749                       NaN               NaN              NaN   \n",
      "291                       NaN               NaN              NaN   \n",
      "1346                      NaN               1.0              NaN   \n",
      "70                        NaN               NaN              NaN   \n",
      "723                       NaN               NaN              NaN   \n",
      "711                       NaN               NaN              NaN   \n",
      "1153                      NaN               NaN              NaN   \n",
      "1186                      NaN               NaN              NaN   \n",
      "1350                      NaN               1.0              NaN   \n",
      "267                       1.0               NaN              NaN   \n",
      "\n",
      "      Crunchy Peanut 1kg  Vainilla Almond 1kg  Chocolate Hazelnut 1kg  \\\n",
      "749                  NaN                  NaN                     NaN   \n",
      "291                  NaN                  NaN                     NaN   \n",
      "1346                 NaN                  NaN                     NaN   \n",
      "70                   NaN                  NaN                     NaN   \n",
      "723                  1.0                  NaN                     NaN   \n",
      "711                  NaN                  NaN                     NaN   \n",
      "1153                 NaN                  NaN                     NaN   \n",
      "1186                 1.0                  NaN                     NaN   \n",
      "1350                 NaN                  NaN                     NaN   \n",
      "267                  NaN                  NaN                     NaN   \n",
      "\n",
      "      Non Crunchy Peanut 4kg  Crunchy Peanut 4kg  Vainilla Almond 4kg  \\\n",
      "749                      NaN                 NaN                  NaN   \n",
      "291                      NaN                 NaN                  NaN   \n",
      "1346                     NaN                 NaN                  NaN   \n",
      "70                       NaN                 1.0                  NaN   \n",
      "723                      NaN                 NaN                  NaN   \n",
      "711                      NaN                 NaN                  NaN   \n",
      "1153                     NaN                 NaN                  NaN   \n",
      "1186                     NaN                 NaN                  NaN   \n",
      "1350                     NaN                 NaN                  NaN   \n",
      "267                      NaN                 NaN                  NaN   \n",
      "\n",
      "      Chocolate Hazelnut 4kg  \n",
      "749                      NaN  \n",
      "291                      NaN  \n",
      "1346                     NaN  \n",
      "70                       NaN  \n",
      "723                      NaN  \n",
      "711                      NaN  \n",
      "1153                     NaN  \n",
      "1186                     NaN  \n",
      "1350                     NaN  \n",
      "267                      NaN  \n"
     ]
    }
   ],
   "source": [
    "\n",
    "print(sales.info())\n",
    "print(sales.sample(10))"
   ]
  },
  {
   "cell_type": "markdown",
   "id": "ccf95b84",
   "metadata": {},
   "source": [
    "\n",
    "Looking at the dataset, we can confirm this one is a table with sales and each line it's a different ticket for an specific customer. That is why we have NaN values, because every customer buys some specific products. There are some things we can do to improve our dataset:  \n",
    "  \n",
    "1. For style purpose we'll unify the columns names, changing them to lowercase, and replacing spaces with underscores.  \n",
    "2. To simplify the data wrangling, we can sustitute the NaN values for ceros, this means that the customer didn't buy that product.  \n",
    "3. Also for data wrangling and because the customers do not buy half's of products, we can change the products columns info into integer type."
   ]
  },
  {
   "cell_type": "code",
   "execution_count": null,
   "id": "54571307",
   "metadata": {},
   "outputs": [
    {
     "name": "stdout",
     "output_type": "stream",
     "text": [
      "   month  week channel      state  baby_peanut_250g  crunchy_peanut_250g  \\\n",
      "0      1     1      AZ    Jalisco                 1                    0   \n",
      "1      1     1      AZ  Querétaro                 1                    0   \n",
      "2      1     1      AZ       León                 1                    0   \n",
      "3      1     1      AZ    Jalisco                 0                    0   \n",
      "4      1     1      AZ       CDMX                 1                    0   \n",
      "\n",
      "   baby_almond_250g  vainilla_almond_250g  chocolate_hazelnut_250g  \\\n",
      "0                 1                     0                        0   \n",
      "1                 1                     0                        0   \n",
      "2                 1                     0                        0   \n",
      "3                 0                     0                        0   \n",
      "4                 1                     0                        0   \n",
      "\n",
      "   baby_peanut_1kg  baby_almond_1kg  crunchy_peanut_1kg  vainilla_almond_1kg  \\\n",
      "0                0                0                   0                    0   \n",
      "1                0                0                   0                    0   \n",
      "2                0                0                   0                    0   \n",
      "3                0                0                   1                    0   \n",
      "4                0                0                   0                    0   \n",
      "\n",
      "   chocolate_hazelnut_1kg  non_crunchy_peanut_4kg  crunchy_peanut_4kg  \\\n",
      "0                       0                       0                   0   \n",
      "1                       0                       0                   0   \n",
      "2                       0                       0                   0   \n",
      "3                       0                       0                   0   \n",
      "4                       0                       0                   0   \n",
      "\n",
      "   vainilla_almond_4kg  chocolate_hazelnut_4kg  \n",
      "0                    0                       0  \n",
      "1                    0                       0  \n",
      "2                    0                       0  \n",
      "3                    0                       0  \n",
      "4                    0                       0  \n"
     ]
    }
   ],
   "source": [
    "# First we change the columns names from uppercases to lowercases.\n",
    "new_col_name = []\n",
    "\n",
    "for old_name in sales.columns:\n",
    "    low_name = old_name.lower()\n",
    "    stripped_name = '_'.join(old_name.split())\n",
    "    new_col_name.append(stripped_name)\n",
    "\n",
    "sales.columns = new_col_name\n",
    "\n",
    "# Now let's impute zeros in the products columns.\n",
    "exclude_col = ['month', 'week', 'channel', 'state']\n",
    "col_to_fill = sales.columns.difference(exclude_col)\n",
    "sales[col_to_fill] = sales[col_to_fill].fillna(0)\n",
    "\n",
    "# Finally we change the products columns type to integer.\n",
    "sales[col_to_fill] = sales[col_to_fill].astype('int')\n",
    "print(sales.head())"
   ]
  },
  {
   "cell_type": "markdown",
   "id": "4cd89d84",
   "metadata": {},
   "source": [
    "\n",
    "## Data Wrangling"
   ]
  },
  {
   "cell_type": "markdown",
   "id": "edb65ac4",
   "metadata": {},
   "source": [
    "\n",
    "For the purpose of the project, we need to translate the amount of products selled into money. And for simplifying the analysis it's a good idea to calculate the total sales for each one of the product lines that we want to do A/B tests. We'll set 3 different product lines and calculate the amount of money for each of them."
   ]
  },
  {
   "cell_type": "code",
   "execution_count": 22,
   "id": "631d7b3f",
   "metadata": {},
   "outputs": [],
   "source": [
    "\n",
    "# Let's calculate the money sales for the baby product line.\n",
    "sales['baby_sales'] = (sales['baby_peanut_250g']*100)+(sales['baby_almond_250g']*200)+(sales['baby_peanut_1kg']*280)+(sales['baby_almond_1kg']*600)\n",
    "\n",
    "# Now we do the same for the business product line.\n",
    "sales['business_sales'] = (sales['non_crunchy_peanut_4kg']*500)+(sales['crunchy_peanut_4kg']*500)+(sales['vainilla_almond_4kg']*2000)+(sales['chocolate_hazelnut_4kg']*2000)\n",
    "\n",
    "# The rest of the products are considered as the wellness product line.\n",
    "sales['wellness_sales'] = (sales['crunchy_peanut_250g']*100)+(sales['vainilla_almond_250g']*200)+(sales['chocolate_hazelnut_250g']*200)+(sales['crunchy_peanut_1kg']*280)+(sales['vainilla_almond_1kg']*600)+(sales['chocolate_hazelnut_1kg']*600)"
   ]
  },
  {
   "cell_type": "markdown",
   "id": "1ba81f9b",
   "metadata": {},
   "source": [
    "\n",
    "## Statistical Analysis"
   ]
  },
  {
   "cell_type": "markdown",
   "id": "baf008e7",
   "metadata": {},
   "source": [
    "\n",
    "We aim to uncover key insights for Katingos’ Marketing Department by analyzing various aspects of sales performance, such as"
   ]
  },
  {
   "cell_type": "code",
   "execution_count": null,
   "id": "4d276f7c",
   "metadata": {},
   "outputs": [],
   "source": []
  },
  {
   "cell_type": "code",
   "execution_count": null,
   "id": "951fb342",
   "metadata": {},
   "outputs": [],
   "source": []
  }
 ],
 "metadata": {
  "kernelspec": {
   "display_name": "katingos_sales_statistical_analysis",
   "language": "python",
   "name": "python3"
  },
  "language_info": {
   "codemirror_mode": {
    "name": "ipython",
    "version": 3
   },
   "file_extension": ".py",
   "mimetype": "text/x-python",
   "name": "python",
   "nbconvert_exporter": "python",
   "pygments_lexer": "ipython3",
   "version": "3.13.1"
  }
 },
 "nbformat": 4,
 "nbformat_minor": 5
}
